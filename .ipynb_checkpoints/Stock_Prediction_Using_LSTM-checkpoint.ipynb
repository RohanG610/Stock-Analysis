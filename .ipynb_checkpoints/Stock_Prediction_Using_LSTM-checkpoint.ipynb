{
 "cells": [
  {
   "cell_type": "code",
   "execution_count": 1,
   "metadata": {},
   "outputs": [],
   "source": [
    "# !pip show protobuf"
   ]
  },
  {
   "cell_type": "code",
   "execution_count": 2,
   "metadata": {},
   "outputs": [],
   "source": [
    "# !pip install tensorflow==2.15.0\n",
    "# !pip install keras==2.15.0\n",
    "# !pip install numpy==1.23.5"
   ]
  },
  {
   "cell_type": "code",
   "execution_count": 3,
   "metadata": {},
   "outputs": [],
   "source": [
    "# !pip install tensorflow.compat"
   ]
  },
  {
   "cell_type": "code",
   "execution_count": 4,
   "metadata": {},
   "outputs": [
    {
     "name": "stdout",
     "output_type": "stream",
     "text": [
      "Requirement already satisfied: numpy==1.23.4 in c:\\users\\rohan\\anaconda3\\envs\\python9_18\\lib\\site-packages (1.23.4)\n"
     ]
    }
   ],
   "source": [
    "!pip install numpy==1.23.4"
   ]
  },
  {
   "cell_type": "code",
   "execution_count": 5,
   "metadata": {},
   "outputs": [
    {
     "name": "stdout",
     "output_type": "stream",
     "text": [
      "Requirement already satisfied: yfinance in c:\\users\\rohan\\anaconda3\\envs\\python9_18\\lib\\site-packages (0.2.33)\n",
      "Requirement already satisfied: pandas>=1.3.0 in c:\\users\\rohan\\anaconda3\\envs\\python9_18\\lib\\site-packages (from yfinance) (2.1.4)\n",
      "Requirement already satisfied: numpy>=1.16.5 in c:\\users\\rohan\\anaconda3\\envs\\python9_18\\lib\\site-packages (from yfinance) (1.23.4)\n",
      "Requirement already satisfied: requests>=2.31 in c:\\users\\rohan\\anaconda3\\envs\\python9_18\\lib\\site-packages (from yfinance) (2.31.0)\n",
      "Requirement already satisfied: multitasking>=0.0.7 in c:\\users\\rohan\\anaconda3\\envs\\python9_18\\lib\\site-packages (from yfinance) (0.0.11)\n",
      "Requirement already satisfied: lxml>=4.9.1 in c:\\users\\rohan\\anaconda3\\envs\\python9_18\\lib\\site-packages (from yfinance) (5.0.0)\n",
      "Requirement already satisfied: appdirs>=1.4.4 in c:\\users\\rohan\\anaconda3\\envs\\python9_18\\lib\\site-packages (from yfinance) (1.4.4)\n",
      "Requirement already satisfied: pytz>=2022.5 in c:\\users\\rohan\\anaconda3\\envs\\python9_18\\lib\\site-packages (from yfinance) (2023.3.post1)\n",
      "Requirement already satisfied: frozendict>=2.3.4 in c:\\users\\rohan\\anaconda3\\envs\\python9_18\\lib\\site-packages (from yfinance) (2.4.0)\n",
      "Requirement already satisfied: peewee>=3.16.2 in c:\\users\\rohan\\anaconda3\\envs\\python9_18\\lib\\site-packages (from yfinance) (3.17.0)\n",
      "Requirement already satisfied: beautifulsoup4>=4.11.1 in c:\\users\\rohan\\anaconda3\\envs\\python9_18\\lib\\site-packages (from yfinance) (4.12.2)\n",
      "Requirement already satisfied: html5lib>=1.1 in c:\\users\\rohan\\anaconda3\\envs\\python9_18\\lib\\site-packages (from yfinance) (1.1)\n",
      "Requirement already satisfied: soupsieve>1.2 in c:\\users\\rohan\\anaconda3\\envs\\python9_18\\lib\\site-packages (from beautifulsoup4>=4.11.1->yfinance) (2.5)\n",
      "Requirement already satisfied: six>=1.9 in c:\\users\\rohan\\anaconda3\\envs\\python9_18\\lib\\site-packages (from html5lib>=1.1->yfinance) (1.16.0)\n",
      "Requirement already satisfied: webencodings in c:\\users\\rohan\\anaconda3\\envs\\python9_18\\lib\\site-packages (from html5lib>=1.1->yfinance) (0.5.1)\n",
      "Requirement already satisfied: python-dateutil>=2.8.2 in c:\\users\\rohan\\anaconda3\\envs\\python9_18\\lib\\site-packages (from pandas>=1.3.0->yfinance) (2.8.2)\n",
      "Requirement already satisfied: tzdata>=2022.1 in c:\\users\\rohan\\anaconda3\\envs\\python9_18\\lib\\site-packages (from pandas>=1.3.0->yfinance) (2023.4)\n",
      "Requirement already satisfied: charset-normalizer<4,>=2 in c:\\users\\rohan\\anaconda3\\envs\\python9_18\\lib\\site-packages (from requests>=2.31->yfinance) (2.0.4)\n",
      "Requirement already satisfied: idna<4,>=2.5 in c:\\users\\rohan\\anaconda3\\envs\\python9_18\\lib\\site-packages (from requests>=2.31->yfinance) (3.4)\n",
      "Requirement already satisfied: urllib3<3,>=1.21.1 in c:\\users\\rohan\\anaconda3\\envs\\python9_18\\lib\\site-packages (from requests>=2.31->yfinance) (1.26.18)\n",
      "Requirement already satisfied: certifi>=2017.4.17 in c:\\users\\rohan\\anaconda3\\envs\\python9_18\\lib\\site-packages (from requests>=2.31->yfinance) (2023.11.17)\n"
     ]
    }
   ],
   "source": [
    "!pip install yfinance"
   ]
  },
  {
   "cell_type": "code",
   "execution_count": 13,
   "metadata": {
    "id": "ohF5JJbpjUZQ"
   },
   "outputs": [],
   "source": [
    "# IMPORTING IMPORTANT LIBRARIES\n",
    "import pandas as pd\n",
    "import matplotlib.pyplot as plt\n",
    "import numpy as np\n",
    "np.object = object\n",
    "np.bool = bool\n",
    "np.int = int\n",
    "import math\n",
    "import IPython\n",
    "from sklearn.preprocessing import MinMaxScaler,StandardScaler\n",
    "# import keras\n",
    "import tensorflow\n",
    "from sklearn.metrics import mean_squared_error\n",
    "from keras.models import Sequential\n",
    "from tensorflow.keras.models import Sequential\n",
    "from keras.layers import Dense, Activation\n",
    "from keras.layers import LSTM\n",
    "\n",
    "import pickle as pkl\n",
    "from pandas_datareader import data as pdr\n",
    "import yfinance as yf  \n",
    "import datetime\n",
    "from dateutil.relativedelta import relativedelta"
   ]
  },
  {
   "cell_type": "markdown",
   "metadata": {
    "colab_type": "text",
    "id": "view-in-github"
   },
   "source": [
    "<a href=\"https://colab.research.google.com/github/SleeplessCoder09/Machine-Learning-with-Python/blob/main/Stock_Prediction_Using_LSTM.ipynb\" target=\"_parent\"><img src=\"https://colab.research.google.com/assets/colab-badge.svg\" alt=\"Open In Colab\"/></a>"
   ]
  },
  {
   "cell_type": "code",
   "execution_count": 14,
   "metadata": {
    "id": "YAOxyNaGlKQx"
   },
   "outputs": [],
   "source": [
    "# FOR REPRODUCIBILITY\n",
    "np.random.seed(7)"
   ]
  },
  {
   "cell_type": "code",
   "execution_count": 15,
   "metadata": {
    "colab": {
     "base_uri": "https://localhost:8080/",
     "height": 272
    },
    "id": "aukihmfilXcn",
    "outputId": "4b22d890-3928-448e-dd3e-204f4f32f8e7"
   },
   "outputs": [
    {
     "name": "stdout",
     "output_type": "stream",
     "text": [
      "2024-01-22\n",
      "[*********************100%%**********************]  1 of 1 completed\n",
      "7059\n"
     ]
    }
   ],
   "source": [
    "# # IMPORTING DATASET \n",
    "yf.pdr_override()\n",
    "today = datetime.date.today() - relativedelta(days=-1)\n",
    "three_yrs_ago = datetime.date.today() - relativedelta(years=3)\n",
    "print(today)\n",
    "data = yf.download('TATAMOTORS.NS',0,today)\n",
    "dataset = data[['Open','High','Low','Close']]\n",
    "dataset = dataset.reindex(index = dataset.index[::-1])\n",
    "dataset = dataset[::-1]\n",
    "data.tail()\n",
    "print(len(dataset))"
   ]
  },
  {
   "cell_type": "code",
   "execution_count": 16,
   "metadata": {
    "id": "OQ9rIwXkmbHM"
   },
   "outputs": [],
   "source": [
    "# CREATING OWN INDEX FOR FLEXIBILITY\n",
    "obs = np.arange(1, len(dataset) + 1, 1)"
   ]
  },
  {
   "cell_type": "code",
   "execution_count": 17,
   "metadata": {
    "colab": {
     "base_uri": "https://localhost:8080/"
    },
    "id": "WR8PLqK8mce7",
    "outputId": "9561767b-fb54-4ca3-dfc0-d79e2b0f765a"
   },
   "outputs": [],
   "source": [
    "# TAKING DIFFERENT INDICATORS FOR PREDICTION\n",
    "OHLC_avg = dataset.mean(axis = 1)\n",
    "HLC_avg = dataset[['High', 'Low', 'Close']].mean(axis = 1)\n",
    "close_val = dataset[['Close']]\n",
    "scale = len(str(int(OHLC_avg.mean())))"
   ]
  },
  {
   "cell_type": "code",
   "execution_count": 18,
   "metadata": {
    "colab": {
     "base_uri": "https://localhost:8080/",
     "height": 430
    },
    "id": "vRqQkVD4nRMn",
    "outputId": "14717513-3ce7-4887-b396-69385687560d"
   },
   "outputs": [
    {
     "data": {
      "image/png": "[encoded data removed]",
      "text/plain": [
       "<Figure size 640x480 with 1 Axes>"
      ]
     },
     "metadata": {},
     "output_type": "display_data"
    }
   ],
   "source": [
    "# PLOTTING ALL INDICATORS IN ONE PLOT\n",
    "fig_handle = plt.figure()\n",
    "plt.plot(obs, OHLC_avg, 'r', label = 'OHLC avg')\n",
    "plt.plot(obs, HLC_avg, 'b', label = 'HLC avg')\n",
    "plt.plot(obs, close_val, 'g', label = 'Closing price')\n",
    "plt.legend(loc = 'upper right')\n",
    "# plt.savefig(\"HDFC_stock_OHLC_avg.png\")\n",
    "# Save figure handle to disk\n",
    "# pl.dump(fig_handle,file('sinus.pickle','w'))\n",
    "with open('sinus.pickle', 'wb') as f: # should be 'wb' rather than 'w'\n",
    "    pkl.dump(fig_handle, f) \n",
    "plt.show()"
   ]
  },
  {
   "cell_type": "code",
   "execution_count": 19,
   "metadata": {},
   "outputs": [
    {
     "data": {
      "image/png": "[encoded data removed]",
      "text/plain": [
       "<Figure size 640x480 with 1 Axes>"
      ]
     },
     "metadata": {},
     "output_type": "display_data"
    }
   ],
   "source": [
    "fig_open = pkl.load(open('sinus.pickle','rb'))"
   ]
  },
  {
   "cell_type": "code",
   "execution_count": null,
   "metadata": {
    "id": "LI-W2mZDnsYD"
   },
   "outputs": [],
   "source": [
    "# PREPARATION OF TIME SERIES DATASE\n",
    "OHLC_avg = np.reshape(OHLC_avg.values, (len(OHLC_avg),1))\n",
    "scaler = MinMaxScaler(feature_range=(0, scale))\n",
    "OHLC_avg = scaler.fit_transform(OHLC_avg)"
   ]
  },
  {
   "cell_type": "code",
   "execution_count": 13,
   "metadata": {
    "id": "Y3WtXxzonzOu"
   },
   "outputs": [],
   "source": [
    "# TRAIN-TEST SPLIT\n",
    "train_OHLC = int(len(OHLC_avg) * 0.95)\n",
    "# train_OHLC = int(len(OHLC_avg) - 7)\n",
    "test_OHLC = len(OHLC_avg) - train_OHLC\n",
    "train_OHLC, test_OHLC = OHLC_avg[0:train_OHLC,:], OHLC_avg[train_OHLC:len(OHLC_avg),:]"
   ]
  },
  {
   "cell_type": "code",
   "execution_count": 14,
   "metadata": {
    "id": "I94EZnmXol0a"
   },
   "outputs": [],
   "source": [
    "# TIME-SERIES DATASET (FOR TIME T, VALUES FOR TIME T+1)\n",
    "def new_dataset(dataset, step_size):\n",
    "\tdata_X, data_Y = [], []\n",
    "\tfor i in range(len(dataset)-step_size-1):\n",
    "\t\ta = dataset[i:(i+step_size), 0]\n",
    "\t\tdata_X.append(a)\n",
    "\t\tdata_Y.append(dataset[i + step_size, 0])\n",
    "\treturn np.array(data_X), np.array(data_Y)\n",
    "\n",
    "\n",
    "trainX, trainY = new_dataset(train_OHLC, 1)\n",
    "testX, testY = new_dataset(test_OHLC, 1)"
   ]
  },
  {
   "cell_type": "code",
   "execution_count": 15,
   "metadata": {
    "id": "hDTAaH3GpEOW"
   },
   "outputs": [],
   "source": [
    "# RESHAPING TRAIN AND TEST DATA\n",
    "trainX = np.reshape(trainX, (trainX.shape[0], 1, trainX.shape[1]))\n",
    "testX = np.reshape(testX, (testX.shape[0], 1, testX.shape[1]))\n",
    "step_size = 1"
   ]
  },
  {
   "cell_type": "code",
   "execution_count": 16,
   "metadata": {},
   "outputs": [
    {
     "data": {
      "text/plain": [
       "0.22798706472338873"
      ]
     },
     "execution_count": 16,
     "metadata": {},
     "output_type": "execute_result"
    }
   ],
   "source": [
    "trainY[5]"
   ]
  },
  {
   "cell_type": "code",
   "execution_count": 17,
   "metadata": {},
   "outputs": [
    {
     "data": {
      "text/plain": [
       "0.22798706472338873"
      ]
     },
     "execution_count": 17,
     "metadata": {},
     "output_type": "execute_result"
    }
   ],
   "source": [
    "trainX[6][0][0]"
   ]
  },
  {
   "cell_type": "code",
   "execution_count": 18,
   "metadata": {
    "id": "8500aqWSpSAW"
   },
   "outputs": [],
   "source": [
    "# LSTM MODEL\n",
    "model = Sequential()\n",
    "model.add(LSTM(32, input_shape=(1, step_size), return_sequences = True))\n",
    "model.add(LSTM(16))\n",
    "model.add(Dense(1))\n",
    "model.add(Activation('linear'))"
   ]
  },
  {
   "cell_type": "code",
   "execution_count": 19,
   "metadata": {
    "id": "HaNOEvXzpTwL"
   },
   "outputs": [
    {
     "name": "stdout",
     "output_type": "stream",
     "text": [
      "Epoch 1/50\n",
      "6702/6702 - 29s - loss: 0.4699\n",
      "Epoch 2/50\n",
      "6702/6702 - 24s - loss: 0.2397\n",
      "Epoch 3/50\n",
      "6702/6702 - 22s - loss: 0.1548\n",
      "Epoch 4/50\n",
      "6702/6702 - 26s - loss: 0.1153\n",
      "Epoch 5/50\n",
      "6702/6702 - 25s - loss: 0.0869\n",
      "Epoch 6/50\n",
      "6702/6702 - 23s - loss: 0.0640\n",
      "Epoch 7/50\n",
      "6702/6702 - 22s - loss: 0.0456\n",
      "Epoch 8/50\n",
      "6702/6702 - 22s - loss: 0.0314\n",
      "Epoch 9/50\n",
      "6702/6702 - 23s - loss: 0.0210\n",
      "Epoch 10/50\n",
      "6702/6702 - 24s - loss: 0.0136\n",
      "Epoch 11/50\n",
      "6702/6702 - 22s - loss: 0.0086\n",
      "Epoch 12/50\n",
      "6702/6702 - 22s - loss: 0.0054\n",
      "Epoch 13/50\n",
      "6702/6702 - 22s - loss: 0.0034\n",
      "Epoch 14/50\n",
      "6702/6702 - 22s - loss: 0.0022\n",
      "Epoch 15/50\n",
      "6702/6702 - 24s - loss: 0.0016\n",
      "Epoch 16/50\n",
      "6702/6702 - 23s - loss: 0.0012\n",
      "Epoch 17/50\n",
      "6702/6702 - 22s - loss: 9.6180e-04\n",
      "Epoch 18/50\n",
      "6702/6702 - 22s - loss: 8.4456e-04\n",
      "Epoch 19/50\n",
      "6702/6702 - 22s - loss: 7.8011e-04\n",
      "Epoch 20/50\n",
      "6702/6702 - 23s - loss: 7.4461e-04\n",
      "Epoch 21/50\n",
      "6702/6702 - 23s - loss: 7.2443e-04\n",
      "Epoch 22/50\n",
      "6702/6702 - 22s - loss: 7.1252e-04\n",
      "Epoch 23/50\n",
      "6702/6702 - 22s - loss: 7.0495e-04\n",
      "Epoch 24/50\n",
      "6702/6702 - 23s - loss: 6.9972e-04\n",
      "Epoch 25/50\n",
      "6702/6702 - 31s - loss: 6.9575e-04\n",
      "Epoch 26/50\n",
      "6702/6702 - 34s - loss: 6.9229e-04\n",
      "Epoch 27/50\n",
      "6702/6702 - 28s - loss: 6.8935e-04\n",
      "Epoch 28/50\n",
      "6702/6702 - 28s - loss: 6.8671e-04\n",
      "Epoch 29/50\n",
      "6702/6702 - 30s - loss: 6.8425e-04\n",
      "Epoch 30/50\n",
      "6702/6702 - 29s - loss: 6.8181e-04\n",
      "Epoch 31/50\n",
      "6702/6702 - 23s - loss: 6.7955e-04\n",
      "Epoch 32/50\n",
      "6702/6702 - 27s - loss: 6.7728e-04\n",
      "Epoch 33/50\n",
      "6702/6702 - 29s - loss: 6.7517e-04\n",
      "Epoch 34/50\n",
      "6702/6702 - 31s - loss: 6.7308e-04\n",
      "Epoch 35/50\n",
      "6702/6702 - 27s - loss: 6.7112e-04\n",
      "Epoch 36/50\n",
      "6702/6702 - 23s - loss: 6.6905e-04\n",
      "Epoch 37/50\n",
      "6702/6702 - 25s - loss: 6.6708e-04\n",
      "Epoch 38/50\n",
      "6702/6702 - 30s - loss: 6.6544e-04\n",
      "Epoch 39/50\n",
      "6702/6702 - 31s - loss: 6.6358e-04\n",
      "Epoch 40/50\n",
      "6702/6702 - 27s - loss: 6.6184e-04\n",
      "Epoch 41/50\n",
      "6702/6702 - 27s - loss: 6.6021e-04\n",
      "Epoch 42/50\n",
      "6702/6702 - 30s - loss: 6.5857e-04\n",
      "Epoch 43/50\n",
      "6702/6702 - 30s - loss: 6.5705e-04\n",
      "Epoch 44/50\n",
      "6702/6702 - 31s - loss: 6.5549e-04\n",
      "Epoch 45/50\n",
      "6702/6702 - 29s - loss: 6.5402e-04\n",
      "Epoch 46/50\n",
      "6702/6702 - 35s - loss: 6.5262e-04\n",
      "Epoch 47/50\n",
      "6702/6702 - 42s - loss: 6.5119e-04\n",
      "Epoch 48/50\n",
      "6702/6702 - 37s - loss: 6.4988e-04\n",
      "Epoch 49/50\n",
      "6702/6702 - 39s - loss: 6.4854e-04\n",
      "Epoch 50/50\n",
      "6702/6702 - 42s - loss: 6.4729e-04\n"
     ]
    },
    {
     "data": {
      "text/plain": [
       "<keras.callbacks.History at 0x1bc86d24f70>"
      ]
     },
     "execution_count": 19,
     "metadata": {},
     "output_type": "execute_result"
    }
   ],
   "source": [
    "# MODEL COMPILING AND TRAINING\n",
    "model.compile(loss='mean_squared_error', optimizer='adagrad') # Try SGD, adam, adagrad and compare!!!\n",
    "model.fit(trainX, trainY, epochs=50, batch_size=1, verbose=2)"
   ]
  },
  {
   "cell_type": "code",
   "execution_count": 20,
   "metadata": {
    "colab": {
     "base_uri": "https://localhost:8080/"
    },
    "id": "47RwYuM1pebV",
    "outputId": "cc79e760-464d-43ba-c653-c4d75d1673e8"
   },
   "outputs": [],
   "source": [
    "# PREDICTION\n",
    "trainPredict = model.predict(trainX)\n",
    "testPredict = model.predict(testX)"
   ]
  },
  {
   "cell_type": "code",
   "execution_count": 21,
   "metadata": {
    "id": "O8uSaECVDC6x"
   },
   "outputs": [],
   "source": [
    "# trainY = scaler.inverse_transform(trainY)\n",
    "# trainY"
   ]
  },
  {
   "cell_type": "code",
   "execution_count": 22,
   "metadata": {
    "id": "eJqJFTz9wbDT"
   },
   "outputs": [],
   "source": [
    "# DE-NORMALIZING FOR PLOTTING\n",
    "trainPredict = scaler.inverse_transform(trainPredict)\n",
    "trainY = scaler.inverse_transform([trainY])\n",
    "testPredict = scaler.inverse_transform(testPredict)\n",
    "testY = scaler.inverse_transform([testY])\n",
    "# trainY"
   ]
  },
  {
   "cell_type": "code",
   "execution_count": 23,
   "metadata": {
    "colab": {
     "base_uri": "https://localhost:8080/"
    },
    "id": "2cUCU25Sp7um",
    "outputId": "1f70db7d-a5dd-4eab-95f0-a283e6eb511e"
   },
   "outputs": [
    {
     "name": "stdout",
     "output_type": "stream",
     "text": [
      "Train RMSE: 6.83\n"
     ]
    }
   ],
   "source": [
    "# TRAINING RMSE\n",
    "trainScore = math.sqrt(mean_squared_error(trainY[0], trainPredict[:,0]))\n",
    "print('Train RMSE: %.2f' % (trainScore))"
   ]
  },
  {
   "cell_type": "code",
   "execution_count": 24,
   "metadata": {
    "colab": {
     "base_uri": "https://localhost:8080/"
    },
    "id": "GwwbtDreqN3I",
    "outputId": "2d0628d0-26f9-43b4-ea09-f3724230233d"
   },
   "outputs": [
    {
     "name": "stdout",
     "output_type": "stream",
     "text": [
      "Test RMSE: 35.67\n"
     ]
    }
   ],
   "source": [
    "# TEST RMSE\n",
    "testScore = math.sqrt(mean_squared_error(testY[0], testPredict[:,0]))\n",
    "print('Test RMSE: %.2f' % (testScore))"
   ]
  },
  {
   "cell_type": "code",
   "execution_count": 25,
   "metadata": {
    "id": "hcIBtWu3qpwY"
   },
   "outputs": [],
   "source": [
    "# CREATING SIMILAR DATASET TO PLOT TRAINING PREDICTIONS\n",
    "trainPredictPlot = np.empty_like(OHLC_avg)\n",
    "trainPredictPlot[:, :] = np.nan\n",
    "trainPredictPlot[step_size:len(trainPredict)+step_size, :] = trainPredict"
   ]
  },
  {
   "cell_type": "code",
   "execution_count": 26,
   "metadata": {
    "id": "PKmIRaypqwNU"
   },
   "outputs": [],
   "source": [
    "# CREATING SIMILAR DATASSET TO PLOT TEST PREDICTIONS\n",
    "testPredictPlot = np.empty_like(OHLC_avg)\n",
    "testPredictPlot[:, :] = np.nan\n",
    "testPredictPlot[len(trainPredict)+(step_size*2)+1:len(OHLC_avg)-1, :] = testPredict"
   ]
  },
  {
   "cell_type": "code",
   "execution_count": 27,
   "metadata": {
    "id": "SmImT8JoqzGw"
   },
   "outputs": [],
   "source": [
    "# DE-NORMALIZING MAIN DATASET \n",
    "OHLC_avg = scaler.inverse_transform(OHLC_avg)"
   ]
  },
  {
   "cell_type": "code",
   "execution_count": 28,
   "metadata": {
    "colab": {
     "base_uri": "https://localhost:8080/",
     "height": 449
    },
    "id": "HBO_0MWHrHI5",
    "outputId": "cae12fc6-ca54-4cb7-de4b-5ab7e3091ee0"
   },
   "outputs": [
    {
     "data": {
      "image/png": "[encoded data removed]",
      "text/plain": [
       "<Figure size 640x480 with 1 Axes>"
      ]
     },
     "metadata": {},
     "output_type": "display_data"
    }
   ],
   "source": [
    "# PLOT OF MAIN OHLC VALUES, TRAIN PREDICTIONS AND TEST PREDICTIONS\n",
    "fig_plot = plt.figure()\n",
    "plt.plot(OHLC_avg, 'g', label = 'original dataset')\n",
    "plt.plot(trainPredictPlot, 'r', label = 'training set')\n",
    "plt.plot(testPredictPlot, 'b', label = 'predicted stock price/test set')\n",
    "plt.legend(loc = 'upper right')\n",
    "plt.xlabel('Time in Days')\n",
    "plt.ylabel('OHLC Value of Apple Stocks')\n",
    "with open('trained.pickle', 'wb') as f: # should be 'wb' rather than 'w'\n",
    "    pkl.dump(fig_handle, f) \n",
    "plt.show()"
   ]
  },
  {
   "cell_type": "code",
   "execution_count": 29,
   "metadata": {
    "colab": {
     "base_uri": "https://localhost:8080/"
    },
    "id": "poO2IvCLqqug",
    "outputId": "80211862-9d9e-4c54-f040-08b7b78ba0fd"
   },
   "outputs": [
    {
     "name": "stdout",
     "output_type": "stream",
     "text": [
      "Last Day Value: [698.61523]\n",
      "Next Day Value: [[703.6195]]\n"
     ]
    }
   ],
   "source": [
    "last_val = testPredict[-1]\n",
    "last_val_scaled = last_val/last_val\n",
    "next_val = model.predict(np.reshape(last_val_scaled, (1,1,1)))\n",
    "print(\"Last Day Value:\", (last_val))\n",
    "print(\"Next Day Value:\", (last_val*next_val))"
   ]
  },
  {
   "cell_type": "code",
   "execution_count": 30,
   "metadata": {
    "id": "G1hDWTW4IMSw"
   },
   "outputs": [
    {
     "name": "stdout",
     "output_type": "stream",
     "text": [
      "Last Day Value: 698.615234375\n",
      "Next Day Value: 703.6195068359375\n"
     ]
    }
   ],
   "source": [
    "print(\"Last Day Value:\", np.ndarray.item(last_val))\n",
    "print(\"Next Day Value:\", np.ndarray.item(last_val*next_val))"
   ]
  },
  {
   "cell_type": "code",
   "execution_count": 31,
   "metadata": {},
   "outputs": [
    {
     "data": {
      "text/plain": [
       "array([[ 72.81962585,  72.81962585,  72.81962585, ..., 471.52500153,\n",
       "        479.94999695, 476.1875    ]])"
      ]
     },
     "execution_count": 31,
     "metadata": {},
     "output_type": "execute_result"
    }
   ],
   "source": [
    "trainY"
   ]
  },
  {
   "cell_type": "code",
   "execution_count": 32,
   "metadata": {},
   "outputs": [
    {
     "data": {
      "text/plain": [
       "array([[[1.7759528 ]],\n",
       "\n",
       "       [[1.75730161]],\n",
       "\n",
       "       [[1.73785977]],\n",
       "\n",
       "       [[1.6733481 ]],\n",
       "\n",
       "       [[1.64967369]],\n",
       "\n",
       "       [[1.67353416]],\n",
       "\n",
       "       [[1.67967367]],\n",
       "\n",
       "       [[1.69181323]],\n",
       "\n",
       "       [[1.64246435]],\n",
       "\n",
       "       [[1.68697601]],\n",
       "\n",
       "       [[1.69320855]],\n",
       "\n",
       "       [[1.69190623]],\n",
       "\n",
       "       [[1.66878996]],\n",
       "\n",
       "       [[1.66976673]],\n",
       "\n",
       "       [[1.63111552]],\n",
       "\n",
       "       [[1.61995273]],\n",
       "\n",
       "       [[1.61665038]],\n",
       "\n",
       "       [[1.63065041]],\n",
       "\n",
       "       [[1.65381318]],\n",
       "\n",
       "       [[1.63139461]],\n",
       "\n",
       "       [[1.63330155]],\n",
       "\n",
       "       [[1.58906898]],\n",
       "\n",
       "       [[1.55055733]],\n",
       "\n",
       "       [[1.57492945]],\n",
       "\n",
       "       [[1.56032478]],\n",
       "\n",
       "       [[1.55218524]],\n",
       "\n",
       "       [[1.54576661]],\n",
       "\n",
       "       [[1.4686503 ]],\n",
       "\n",
       "       [[1.44306889]],\n",
       "\n",
       "       [[1.43972007]],\n",
       "\n",
       "       [[1.47009217]],\n",
       "\n",
       "       [[1.44892937]],\n",
       "\n",
       "       [[1.45065028]],\n",
       "\n",
       "       [[1.46976659]],\n",
       "\n",
       "       [[1.49311544]],\n",
       "\n",
       "       [[1.49069683]],\n",
       "\n",
       "       [[1.44190609]],\n",
       "\n",
       "       [[1.42827819]],\n",
       "\n",
       "       [[1.42758051]],\n",
       "\n",
       "       [[1.43985957]],\n",
       "\n",
       "       [[1.45302239]],\n",
       "\n",
       "       [[1.42860377]],\n",
       "\n",
       "       [[1.45758056]],\n",
       "\n",
       "       [[1.4546503 ]],\n",
       "\n",
       "       [[1.43474332]],\n",
       "\n",
       "       [[1.43837122]],\n",
       "\n",
       "       [[1.45860379]],\n",
       "\n",
       "       [[1.46683636]],\n",
       "\n",
       "       [[1.47553404]],\n",
       "\n",
       "       [[1.4785573 ]],\n",
       "\n",
       "       [[1.4969759 ]],\n",
       "\n",
       "       [[1.51227822]],\n",
       "\n",
       "       [[1.52995265]],\n",
       "\n",
       "       [[1.51413869]],\n",
       "\n",
       "       [[1.52623175]],\n",
       "\n",
       "       [[1.56581315]],\n",
       "\n",
       "       [[1.58120853]],\n",
       "\n",
       "       [[1.50390615]],\n",
       "\n",
       "       [[1.5236736 ]],\n",
       "\n",
       "       [[1.55641782]],\n",
       "\n",
       "       [[1.58037129]],\n",
       "\n",
       "       [[1.57260387]],\n",
       "\n",
       "       [[1.53167359]],\n",
       "\n",
       "       [[1.53455731]],\n",
       "\n",
       "       [[1.53353408]],\n",
       "\n",
       "       [[1.53195267]],\n",
       "\n",
       "       [[1.54167359]],\n",
       "\n",
       "       [[1.53311546]],\n",
       "\n",
       "       [[1.55497594]],\n",
       "\n",
       "       [[1.57697595]],\n",
       "\n",
       "       [[1.56962708]],\n",
       "\n",
       "       [[1.58413873]],\n",
       "\n",
       "       [[1.59623178]],\n",
       "\n",
       "       [[1.58585966]],\n",
       "\n",
       "       [[1.56632477]],\n",
       "\n",
       "       [[1.55055733]],\n",
       "\n",
       "       [[1.53437128]],\n",
       "\n",
       "       [[1.51553406]],\n",
       "\n",
       "       [[1.50451077]],\n",
       "\n",
       "       [[1.49330147]],\n",
       "\n",
       "       [[1.51762709]],\n",
       "\n",
       "       [[1.51758056]],\n",
       "\n",
       "       [[1.51469686]],\n",
       "\n",
       "       [[1.5200922 ]],\n",
       "\n",
       "       [[1.51860382]],\n",
       "\n",
       "       [[1.49651079]],\n",
       "\n",
       "       [[1.47427822]],\n",
       "\n",
       "       [[1.4397201 ]],\n",
       "\n",
       "       [[1.38567352]],\n",
       "\n",
       "       [[1.3815805 ]],\n",
       "\n",
       "       [[1.41799912]],\n",
       "\n",
       "       [[1.41939444]],\n",
       "\n",
       "       [[1.39739444]],\n",
       "\n",
       "       [[1.40688285]],\n",
       "\n",
       "       [[1.42190608]],\n",
       "\n",
       "       [[1.42837121]],\n",
       "\n",
       "       [[1.40878979]],\n",
       "\n",
       "       [[1.395627  ]],\n",
       "\n",
       "       [[1.38767352]],\n",
       "\n",
       "       [[1.40255727]],\n",
       "\n",
       "       [[1.47432472]],\n",
       "\n",
       "       [[1.50860382]],\n",
       "\n",
       "       [[1.50451077]],\n",
       "\n",
       "       [[1.49125498]],\n",
       "\n",
       "       [[1.49139451]],\n",
       "\n",
       "       [[1.50185963]],\n",
       "\n",
       "       [[1.49018521]],\n",
       "\n",
       "       [[1.45990611]],\n",
       "\n",
       "       [[1.46520845]],\n",
       "\n",
       "       [[1.4749759 ]],\n",
       "\n",
       "       [[1.507348  ]],\n",
       "\n",
       "       [[1.52744104]],\n",
       "\n",
       "       [[1.6059527 ]],\n",
       "\n",
       "       [[1.61037131]],\n",
       "\n",
       "       [[1.62395272]],\n",
       "\n",
       "       [[1.63427828]],\n",
       "\n",
       "       [[1.61460389]],\n",
       "\n",
       "       [[1.61846435]],\n",
       "\n",
       "       [[1.60674341]],\n",
       "\n",
       "       [[1.58855736]],\n",
       "\n",
       "       [[1.58358061]],\n",
       "\n",
       "       [[1.58627828]],\n",
       "\n",
       "       [[1.59725505]],\n",
       "\n",
       "       [[1.60613873]],\n",
       "\n",
       "       [[1.59581314]],\n",
       "\n",
       "       [[1.59995269]],\n",
       "\n",
       "       [[1.60892946]],\n",
       "\n",
       "       [[1.58939457]],\n",
       "\n",
       "       [[1.60055733]],\n",
       "\n",
       "       [[1.5966504 ]],\n",
       "\n",
       "       [[1.56567362]],\n",
       "\n",
       "       [[1.56255736]],\n",
       "\n",
       "       [[1.56381316]],\n",
       "\n",
       "       [[1.5265573 ]],\n",
       "\n",
       "       [[1.52348755]],\n",
       "\n",
       "       [[1.53604569]],\n",
       "\n",
       "       [[1.53162709]],\n",
       "\n",
       "       [[1.54167362]],\n",
       "\n",
       "       [[1.57837133]],\n",
       "\n",
       "       [[1.59060386]],\n",
       "\n",
       "       [[1.58037129]],\n",
       "\n",
       "       [[1.5736736 ]],\n",
       "\n",
       "       [[1.5524178 ]],\n",
       "\n",
       "       [[1.51753406]],\n",
       "\n",
       "       [[1.50948755]],\n",
       "\n",
       "       [[1.49465032]],\n",
       "\n",
       "       [[1.5165108 ]],\n",
       "\n",
       "       [[1.49120848]],\n",
       "\n",
       "       [[1.48953404]],\n",
       "\n",
       "       [[1.50558056]],\n",
       "\n",
       "       [[1.51432474]],\n",
       "\n",
       "       [[1.51172008]],\n",
       "\n",
       "       [[1.49865031]],\n",
       "\n",
       "       [[1.47437125]],\n",
       "\n",
       "       [[1.46720847]],\n",
       "\n",
       "       [[1.50618521]],\n",
       "\n",
       "       [[1.53111547]],\n",
       "\n",
       "       [[1.541348  ]],\n",
       "\n",
       "       [[1.56413871]],\n",
       "\n",
       "       [[1.66781317]],\n",
       "\n",
       "       [[1.67092949]],\n",
       "\n",
       "       [[1.67990626]],\n",
       "\n",
       "       [[1.69669696]],\n",
       "\n",
       "       [[1.70809228]],\n",
       "\n",
       "       [[1.72437139]],\n",
       "\n",
       "       [[1.71162719]],\n",
       "\n",
       "       [[1.72451092]],\n",
       "\n",
       "       [[1.71725514]],\n",
       "\n",
       "       [[1.71623185]],\n",
       "\n",
       "       [[1.72213881]],\n",
       "\n",
       "       [[1.72795279]],\n",
       "\n",
       "       [[1.74218535]],\n",
       "\n",
       "       [[1.75530164]],\n",
       "\n",
       "       [[1.74469696]],\n",
       "\n",
       "       [[1.74981327]],\n",
       "\n",
       "       [[1.75237138]],\n",
       "\n",
       "       [[1.74311558]],\n",
       "\n",
       "       [[1.7815342 ]],\n",
       "\n",
       "       [[1.83651095]],\n",
       "\n",
       "       [[1.85023194]],\n",
       "\n",
       "       [[1.85813892]],\n",
       "\n",
       "       [[1.87432497]],\n",
       "\n",
       "       [[1.92334821]],\n",
       "\n",
       "       [[1.92013895]],\n",
       "\n",
       "       [[1.88716218]],\n",
       "\n",
       "       [[1.86930172]],\n",
       "\n",
       "       [[1.8792087 ]],\n",
       "\n",
       "       [[1.90516217]],\n",
       "\n",
       "       [[1.91385988]],\n",
       "\n",
       "       [[1.90734831]],\n",
       "\n",
       "       [[1.87367377]],\n",
       "\n",
       "       [[1.87865058]],\n",
       "\n",
       "       [[1.90279008]],\n",
       "\n",
       "       [[1.89395287]],\n",
       "\n",
       "       [[1.90176685]],\n",
       "\n",
       "       [[1.93120869]],\n",
       "\n",
       "       [[1.95455758]],\n",
       "\n",
       "       [[1.9778599 ]],\n",
       "\n",
       "       [[2.01097618]],\n",
       "\n",
       "       [[2.05409252]],\n",
       "\n",
       "       [[2.06279017]],\n",
       "\n",
       "       [[2.05274367]],\n",
       "\n",
       "       [[2.06041815]],\n",
       "\n",
       "       [[2.06134832]],\n",
       "\n",
       "       [[2.0704646 ]],\n",
       "\n",
       "       [[2.08116228]],\n",
       "\n",
       "       [[2.07623205]],\n",
       "\n",
       "       [[2.07288324]],\n",
       "\n",
       "       [[2.09302275]],\n",
       "\n",
       "       [[2.12186003]],\n",
       "\n",
       "       [[2.1027902 ]],\n",
       "\n",
       "       [[2.05837162]],\n",
       "\n",
       "       [[2.05479014]],\n",
       "\n",
       "       [[2.08623206]],\n",
       "\n",
       "       [[2.08990638]],\n",
       "\n",
       "       [[2.16292973]],\n",
       "\n",
       "       [[2.17427859]],\n",
       "\n",
       "       [[2.16372052]],\n",
       "\n",
       "       [[2.15111582]],\n",
       "\n",
       "       [[2.17613905]],\n",
       "\n",
       "       [[2.22274376]],\n",
       "\n",
       "       [[2.27837169]],\n",
       "\n",
       "       [[2.28865081]],\n",
       "\n",
       "       [[2.2844647 ]],\n",
       "\n",
       "       [[2.2715345 ]],\n",
       "\n",
       "       [[2.27688334]],\n",
       "\n",
       "       [[2.27330196]],\n",
       "\n",
       "       [[2.24613909]],\n",
       "\n",
       "       [[2.25516236]],\n",
       "\n",
       "       [[2.26823218]],\n",
       "\n",
       "       [[2.27879031]],\n",
       "\n",
       "       [[2.29967405]],\n",
       "\n",
       "       [[2.3307438 ]],\n",
       "\n",
       "       [[2.36255778]],\n",
       "\n",
       "       [[2.35362757]],\n",
       "\n",
       "       [[2.33799961]],\n",
       "\n",
       "       [[2.34437174]],\n",
       "\n",
       "       [[2.36074387]],\n",
       "\n",
       "       [[2.30851126]],\n",
       "\n",
       "       [[2.26679033]],\n",
       "\n",
       "       [[2.26269723]],\n",
       "\n",
       "       [[2.2420926 ]],\n",
       "\n",
       "       [[2.22706931]],\n",
       "\n",
       "       [[2.24813906]],\n",
       "\n",
       "       [[2.25283678]],\n",
       "\n",
       "       [[2.25167399]],\n",
       "\n",
       "       [[2.21404605]],\n",
       "\n",
       "       [[2.2310228 ]],\n",
       "\n",
       "       [[2.25209261]],\n",
       "\n",
       "       [[2.24544142]],\n",
       "\n",
       "       [[2.26032515]],\n",
       "\n",
       "       [[2.27102283]],\n",
       "\n",
       "       [[2.257488  ]],\n",
       "\n",
       "       [[2.24358101]],\n",
       "\n",
       "       [[2.21413905]],\n",
       "\n",
       "       [[2.20660424]],\n",
       "\n",
       "       [[2.21311582]],\n",
       "\n",
       "       [[2.22223215]],\n",
       "\n",
       "       [[2.20720886]],\n",
       "\n",
       "       [[2.21995312]],\n",
       "\n",
       "       [[2.23297627]],\n",
       "\n",
       "       [[2.23474379]],\n",
       "\n",
       "       [[2.22679025]],\n",
       "\n",
       "       [[2.23776705]],\n",
       "\n",
       "       [[2.27213917]],\n",
       "\n",
       "       [[2.31595313]],\n",
       "\n",
       "       [[2.29516239]],\n",
       "\n",
       "       [[2.27832519]],\n",
       "\n",
       "       [[2.28934837]],\n",
       "\n",
       "       [[2.30776709]],\n",
       "\n",
       "       [[2.3331625 ]],\n",
       "\n",
       "       [[2.3418136 ]],\n",
       "\n",
       "       [[2.31209264]],\n",
       "\n",
       "       [[2.28139495]],\n",
       "\n",
       "       [[2.26967403]],\n",
       "\n",
       "       [[2.26641822]],\n",
       "\n",
       "       [[2.26325546]],\n",
       "\n",
       "       [[2.25795306]],\n",
       "\n",
       "       [[2.28199962]],\n",
       "\n",
       "       [[2.28702285]],\n",
       "\n",
       "       [[2.24906929]],\n",
       "\n",
       "       [[2.25939491]],\n",
       "\n",
       "       [[2.2800461 ]],\n",
       "\n",
       "       [[2.25869724]],\n",
       "\n",
       "       [[2.28362747]],\n",
       "\n",
       "       [[2.31781354]],\n",
       "\n",
       "       [[2.32879033]],\n",
       "\n",
       "       [[2.37888336]],\n",
       "\n",
       "       [[2.44469735]],\n",
       "\n",
       "       [[2.42372066]],\n",
       "\n",
       "       [[2.42548802]],\n",
       "\n",
       "       [[2.43432523]],\n",
       "\n",
       "       [[2.43813928]],\n",
       "\n",
       "       [[2.39767408]],\n",
       "\n",
       "       [[2.35353451]],\n",
       "\n",
       "       [[2.30288337]],\n",
       "\n",
       "       [[2.32344149]],\n",
       "\n",
       "       [[2.31832515]],\n",
       "\n",
       "       [[2.32018568]],\n",
       "\n",
       "       [[2.29958099]],\n",
       "\n",
       "       [[2.31720892]],\n",
       "\n",
       "       [[2.39623223]],\n",
       "\n",
       "       [[2.37134844]],\n",
       "\n",
       "       [[2.36041826]],\n",
       "\n",
       "       [[2.35883685]],\n",
       "\n",
       "       [[2.36646477]],\n",
       "\n",
       "       [[2.37358102]],\n",
       "\n",
       "       [[2.38492988]],\n",
       "\n",
       "       [[2.4333485 ]],\n",
       "\n",
       "       [[2.47911603]],\n",
       "\n",
       "       [[2.49818575]],\n",
       "\n",
       "       [[2.48186018]],\n",
       "\n",
       "       [[2.48488343]],\n",
       "\n",
       "       [[2.49562761]],\n",
       "\n",
       "       [[2.49334859]],\n",
       "\n",
       "       [[2.47679045]],\n",
       "\n",
       "       [[2.51432533]],\n",
       "\n",
       "       [[2.58427881]],\n",
       "\n",
       "       [[2.5964649 ]],\n",
       "\n",
       "       [[2.58762769]],\n",
       "\n",
       "       [[2.60246486]],\n",
       "\n",
       "       [[2.59441843]],\n",
       "\n",
       "       [[2.62283699]],\n",
       "\n",
       "       [[2.64623237]],\n",
       "\n",
       "       [[2.62879044]],\n",
       "\n",
       "       [[2.63804628]],\n",
       "\n",
       "       [[2.63465096]],\n",
       "\n",
       "       [[2.62837189]],\n",
       "\n",
       "       [[2.64306956]],\n",
       "\n",
       "       [[2.66586032]],\n",
       "\n",
       "       [[2.67981376]],\n",
       "\n",
       "       [[2.67386025]],\n",
       "\n",
       "       [[2.62930212]],\n",
       "\n",
       "       [[2.58069744]],\n",
       "\n",
       "       [[2.64069747]],\n",
       "\n",
       "       [[2.64679049]],\n",
       "\n",
       "       [[2.68851148]],\n",
       "\n",
       "       [[2.74213944]],\n",
       "\n",
       "       [[2.83358134]],\n",
       "\n",
       "       [[2.89265108]],\n",
       "\n",
       "       [[2.90432555]],\n",
       "\n",
       "       [[2.87255807]],\n",
       "\n",
       "       [[2.92195342]],\n",
       "\n",
       "       [[2.91832555]],\n",
       "\n",
       "       [[2.91125574]],\n",
       "\n",
       "       [[2.93613953]],\n",
       "\n",
       "       [[2.94544186]],\n",
       "\n",
       "       [[2.98544189]],\n",
       "\n",
       "       [[2.99213958]],\n",
       "\n",
       "       [[2.99293025]],\n",
       "\n",
       "       [[3.        ]]])"
      ]
     },
     "execution_count": 32,
     "metadata": {},
     "output_type": "execute_result"
    }
   ],
   "source": [
    "testX"
   ]
  },
  {
   "cell_type": "markdown",
   "metadata": {},
   "source": [
    "## Basic ARIMA and SARIMAX models"
   ]
  },
  {
   "cell_type": "code",
   "execution_count": 33,
   "metadata": {},
   "outputs": [
    {
     "name": "stdout",
     "output_type": "stream",
     "text": [
      "Requirement already satisfied: statsmodels in c:\\users\\rohan\\anaconda3\\envs\\python9_18\\lib\\site-packages (0.14.1)\n",
      "Requirement already satisfied: numpy<2,>=1.18 in c:\\users\\rohan\\anaconda3\\envs\\python9_18\\lib\\site-packages (from statsmodels) (1.23.4)\n",
      "Requirement already satisfied: scipy!=1.9.2,>=1.4 in c:\\users\\rohan\\anaconda3\\envs\\python9_18\\lib\\site-packages (from statsmodels) (1.11.4)\n",
      "Requirement already satisfied: pandas!=2.1.0,>=1.0 in c:\\users\\rohan\\anaconda3\\envs\\python9_18\\lib\\site-packages (from statsmodels) (2.1.4)\n",
      "Requirement already satisfied: patsy>=0.5.4 in c:\\users\\rohan\\anaconda3\\envs\\python9_18\\lib\\site-packages (from statsmodels) (0.5.6)\n",
      "Requirement already satisfied: packaging>=21.3 in c:\\users\\rohan\\anaconda3\\envs\\python9_18\\lib\\site-packages (from statsmodels) (23.1)\n",
      "Requirement already satisfied: python-dateutil>=2.8.2 in c:\\users\\rohan\\anaconda3\\envs\\python9_18\\lib\\site-packages (from pandas!=2.1.0,>=1.0->statsmodels) (2.8.2)\n",
      "Requirement already satisfied: pytz>=2020.1 in c:\\users\\rohan\\anaconda3\\envs\\python9_18\\lib\\site-packages (from pandas!=2.1.0,>=1.0->statsmodels) (2023.3.post1)\n",
      "Requirement already satisfied: tzdata>=2022.1 in c:\\users\\rohan\\anaconda3\\envs\\python9_18\\lib\\site-packages (from pandas!=2.1.0,>=1.0->statsmodels) (2023.4)\n",
      "Requirement already satisfied: six in c:\\users\\rohan\\anaconda3\\envs\\python9_18\\lib\\site-packages (from patsy>=0.5.4->statsmodels) (1.16.0)\n",
      "Note: you may need to restart the kernel to use updated packages.\n"
     ]
    }
   ],
   "source": [
    "pip install statsmodels"
   ]
  },
  {
   "cell_type": "code",
   "execution_count": 34,
   "metadata": {},
   "outputs": [],
   "source": [
    "from statsmodels.tsa.stattools import adfuller\n",
    "from statsmodels.tsa.seasonal import seasonal_decompose\n",
    "from statsmodels.tsa.stattools import acf, pacf\n",
    "from statsmodels.tsa.arima_model import ARIMA"
   ]
  },
  {
   "cell_type": "code",
   "execution_count": 35,
   "metadata": {},
   "outputs": [],
   "source": [
    "def test_stationarity(timeseries):\n",
    "    \n",
    "    #Determine rolling statistics\n",
    "    movingAverage = timeseries.rolling(window=365).mean()\n",
    "    movingSTD = timeseries.rolling(window=365).std()\n",
    "    \n",
    "    #Plot rolling statistics\n",
    "    plt.plot(timeseries, color='blue', label='Original')\n",
    "    plt.plot(movingAverage, color='red', label='Rolling Mean')\n",
    "    plt.plot(movingSTD, color='black', label='Rolling Std')\n",
    "    plt.legend(loc='best')\n",
    "    plt.title('Rolling Mean & Standard Deviation')\n",
    "    plt.show(block=False)\n",
    "    \n",
    "    #Perform Dickey–Fuller test:\n",
    "    print('Results of Dickey Fuller Test:')\n",
    "    airpass_test = adfuller(timeseries['Prices'], autolag='AIC')\n",
    "    dfoutput = pd.Series(airpass_test[0:4], index=['Test Statistic','p-value','#Lags Used','Number of Observations Used'])\n",
    "    for key,value in airpass_test[4].items():\n",
    "        dfoutput['Critical Value (%s)'%key] = value\n",
    "    print(dfoutput)"
   ]
  },
  {
   "cell_type": "code",
   "execution_count": 36,
   "metadata": {},
   "outputs": [
    {
     "data": {
      "image/png": "[encoded data removed]",
      "text/plain": [
       "<Figure size 640x480 with 1 Axes>"
      ]
     },
     "metadata": {},
     "output_type": "display_data"
    },
    {
     "name": "stdout",
     "output_type": "stream",
     "text": [
      "Results of Dickey Fuller Test:\n",
      "Test Statistic                    0.471829\n",
      "p-value                           0.983991\n",
      "#Lags Used                       17.000000\n",
      "Number of Observations Used    7039.000000\n",
      "Critical Value (1%)              -3.431279\n",
      "Critical Value (5%)              -2.861951\n",
      "Critical Value (10%)             -2.566989\n",
      "dtype: float64\n"
     ]
    }
   ],
   "source": [
    "pd_OHLC_avg = pd.DataFrame(OHLC_avg)\n",
    "pd_OHLC_avg.columns = ['Prices']\n",
    "test_stationarity(pd_OHLC_avg)"
   ]
  },
  {
   "cell_type": "code",
   "execution_count": 37,
   "metadata": {},
   "outputs": [],
   "source": [
    "pd_OHLC_avg.columns = ['Prices']"
   ]
  },
  {
   "cell_type": "code",
   "execution_count": 38,
   "metadata": {},
   "outputs": [],
   "source": [
    "pd_OHLC_avg.rename(columns = { '0': 'Prices'}, inplace=True)"
   ]
  },
  {
   "cell_type": "code",
   "execution_count": 39,
   "metadata": {},
   "outputs": [
    {
     "data": {
      "text/html": [
       "<div>\n",
       "<style scoped>\n",
       "    .dataframe tbody tr th:only-of-type {\n",
       "        vertical-align: middle;\n",
       "    }\n",
       "\n",
       "    .dataframe tbody tr th {\n",
       "        vertical-align: top;\n",
       "    }\n",
       "\n",
       "    .dataframe thead th {\n",
       "        text-align: right;\n",
       "    }\n",
       "</style>\n",
       "<table border=\"1\" class=\"dataframe\">\n",
       "  <thead>\n",
       "    <tr style=\"text-align: right;\">\n",
       "      <th></th>\n",
       "      <th>Prices</th>\n",
       "    </tr>\n",
       "  </thead>\n",
       "  <tbody>\n",
       "    <tr>\n",
       "      <th>0</th>\n",
       "      <td>72.819626</td>\n",
       "    </tr>\n",
       "    <tr>\n",
       "      <th>1</th>\n",
       "      <td>72.819626</td>\n",
       "    </tr>\n",
       "    <tr>\n",
       "      <th>2</th>\n",
       "      <td>72.819626</td>\n",
       "    </tr>\n",
       "    <tr>\n",
       "      <th>3</th>\n",
       "      <td>72.819626</td>\n",
       "    </tr>\n",
       "    <tr>\n",
       "      <th>4</th>\n",
       "      <td>72.819626</td>\n",
       "    </tr>\n",
       "  </tbody>\n",
       "</table>\n",
       "</div>"
      ],
      "text/plain": [
       "      Prices\n",
       "0  72.819626\n",
       "1  72.819626\n",
       "2  72.819626\n",
       "3  72.819626\n",
       "4  72.819626"
      ]
     },
     "execution_count": 39,
     "metadata": {},
     "output_type": "execute_result"
    }
   ],
   "source": [
    "pd_OHLC_avg.head()"
   ]
  },
  {
   "cell_type": "code",
   "execution_count": null,
   "metadata": {},
   "outputs": [],
   "source": []
  }
 ],
 "metadata": {
  "colab": {
   "authorship_tag": "ABX9TyOXhw6eaUfQaQLLn7RmG72t",
   "include_colab_link": true,
   "provenance": []
  },
  "kernelspec": {
   "display_name": "Python 3 (ipykernel)",
   "language": "python",
   "name": "python3"
  },
  "language_info": {
   "codemirror_mode": {
    "name": "ipython",
    "version": 3
   },
   "file_extension": ".py",
   "mimetype": "text/x-python",
   "name": "python",
   "nbconvert_exporter": "python",
   "pygments_lexer": "ipython3",
   "version": "3.9.18"
  }
 },
 "nbformat": 4,
 "nbformat_minor": 4
}
